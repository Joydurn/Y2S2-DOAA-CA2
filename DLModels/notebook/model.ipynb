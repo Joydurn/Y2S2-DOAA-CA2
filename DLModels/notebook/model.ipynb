{
 "cells": [
  {
   "attachments": {},
   "cell_type": "markdown",
   "metadata": {},
   "source": [
    "# DOAA CA2 Jayden Yap p2112790\n",
    "DL Model Pipelines"
   ]
  },
  {
   "cell_type": "code",
   "execution_count": 2,
   "metadata": {},
   "outputs": [],
   "source": [
    "import tensorflow as tf\n",
    "import cv2\n",
    "import numpy as np"
   ]
  },
  {
   "attachments": {},
   "cell_type": "markdown",
   "metadata": {},
   "source": [
    "## Import DL Models from DELE CA1\n",
    "* We need to create 'pipeline' models suitable for our web app so that users can input any image they want and our app will resize/rescale for predictions"
   ]
  },
  {
   "attachments": {},
   "cell_type": "markdown",
   "metadata": {},
   "source": [
    "### CIFAR 100 Model (Model 1)"
   ]
  },
  {
   "cell_type": "code",
   "execution_count": 3,
   "metadata": {},
   "outputs": [
    {
     "name": "stderr",
     "output_type": "stream",
     "text": [
      "2023-02-03 06:48:41.248954: W tensorflow/compiler/xla/stream_executor/platform/default/dso_loader.cc:64] Could not load dynamic library 'libcuda.so.1'; dlerror: libcuda.so.1: cannot open shared object file: No such file or directory; LD_LIBRARY_PATH: /root/env/lib/python3.8/site-packages/cv2/../../lib64:\n",
      "2023-02-03 06:48:41.249017: W tensorflow/compiler/xla/stream_executor/cuda/cuda_driver.cc:265] failed call to cuInit: UNKNOWN ERROR (303)\n",
      "2023-02-03 06:48:41.249049: I tensorflow/compiler/xla/stream_executor/cuda/cuda_diagnostics.cc:156] kernel driver does not appear to be running on this host (526cddc97549): /proc/driver/nvidia/version does not exist\n",
      "2023-02-03 06:48:41.249370: I tensorflow/core/platform/cpu_feature_guard.cc:193] This TensorFlow binary is optimized with oneAPI Deep Neural Network Library (oneDNN) to use the following CPU instructions in performance-critical operations:  AVX2 FMA\n",
      "To enable them in other operations, rebuild TensorFlow with the appropriate compiler flags.\n"
     ]
    },
    {
     "name": "stdout",
     "output_type": "stream",
     "text": [
      "Model: \"model\"\n",
      "_________________________________________________________________\n",
      " Layer (type)                Output Shape              Param #   \n",
      "=================================================================\n",
      " input_1 (InputLayer)        [(None, None, None, 3)]   0         \n",
      "                                                                 \n",
      " tf.image.resize_with_pad (T  (None, 32, 32, 3)        0         \n",
      " FOpLambda)                                                      \n",
      "                                                                 \n",
      " rescaling (Rescaling)       (None, 32, 32, 3)         0         \n",
      "                                                                 \n",
      " sequential (Sequential)     (None, 100)               2274532   \n",
      "                                                                 \n",
      "=================================================================\n",
      "Total params: 2,274,532\n",
      "Trainable params: 0\n",
      "Non-trainable params: 2,274,532\n",
      "_________________________________________________________________\n"
     ]
    }
   ],
   "source": [
    "baseModel100=tf.keras.models.load_model('deleModel100')\n",
    "#input layer (any shape)\n",
    "input_tensor=tf.keras.Input(shape=[None,None,3])\n",
    "\n",
    "#preprocessing layers\n",
    "resized_tensor=tf.image.resize_with_pad(input_tensor,32,32,method='nearest')\n",
    "scaled_tensor=tf.keras.layers.Rescaling(scale=1./255)(resized_tensor)\n",
    "# Connect the preprocessing layers to the model\n",
    "output_tensor=baseModel100(scaled_tensor)\n",
    "\n",
    "#final model\n",
    "model100=tf.keras.Model(input_tensor,output_tensor)\n",
    "\n",
    "#freeze the base model layers\n",
    "for layer in baseModel100.layers:\n",
    "   layer.trainable=False \n",
    "\n",
    "model100.summary()"
   ]
  },
  {
   "attachments": {},
   "cell_type": "markdown",
   "metadata": {},
   "source": [
    "Testing model"
   ]
  },
  {
   "cell_type": "code",
   "execution_count": 12,
   "metadata": {},
   "outputs": [
    {
     "name": "stdout",
     "output_type": "stream",
     "text": [
      "4/4 [==============================] - 0s 14ms/step\n",
      "75\n",
      "[75]\n"
     ]
    }
   ],
   "source": [
    "(_,_), (x_test, y_test) = tf.keras.datasets.cifar100.load_data(label_mode='fine')\n",
    "y_pred=model100.predict(x_test[0:100])\n",
    "print(np.argmax(y_pred[11]))\n",
    "print(y_test[11])\n",
    "#correct label"
   ]
  },
  {
   "attachments": {},
   "cell_type": "markdown",
   "metadata": {},
   "source": [
    "### CIFAR 20 Model (Model 2)"
   ]
  },
  {
   "cell_type": "code",
   "execution_count": 13,
   "metadata": {},
   "outputs": [
    {
     "name": "stdout",
     "output_type": "stream",
     "text": [
      "Model: \"model_1\"\n",
      "_________________________________________________________________\n",
      " Layer (type)                Output Shape              Param #   \n",
      "=================================================================\n",
      " input_2 (InputLayer)        [(None, None, None, 3)]   0         \n",
      "                                                                 \n",
      " tf.image.resize_with_pad_1   (None, 32, 32, 3)        0         \n",
      " (TFOpLambda)                                                    \n",
      "                                                                 \n",
      " rescaling_1 (Rescaling)     (None, 32, 32, 3)         0         \n",
      "                                                                 \n",
      " sequential (Sequential)     (None, 20)                1182612   \n",
      "                                                                 \n",
      "=================================================================\n",
      "Total params: 1,182,612\n",
      "Trainable params: 0\n",
      "Non-trainable params: 1,182,612\n",
      "_________________________________________________________________\n"
     ]
    }
   ],
   "source": [
    "baseModel20=tf.keras.models.load_model('deleModel20')\n",
    "#input layer (any shape)\n",
    "input_tensor=tf.keras.Input(shape=[None,None,3])\n",
    "\n",
    "#preprocessing layers\n",
    "resized_tensor=tf.image.resize_with_pad(input_tensor,32,32,method='nearest')\n",
    "scaled_tensor=tf.keras.layers.Rescaling(scale=1./255)(resized_tensor)\n",
    "# Connect the preprocessing layers to the model\n",
    "output_tensor=baseModel20(scaled_tensor)\n",
    "\n",
    "#final model\n",
    "model20=tf.keras.Model(input_tensor,output_tensor)\n",
    "\n",
    "#freeze the base model layers\n",
    "for layer in baseModel20.layers:\n",
    "   layer.trainable=False \n",
    "\n",
    "model20.summary()"
   ]
  },
  {
   "cell_type": "code",
   "execution_count": 14,
   "metadata": {},
   "outputs": [
    {
     "name": "stdout",
     "output_type": "stream",
     "text": [
      "4/4 [==============================] - 0s 14ms/step\n",
      "4\n",
      "[4]\n"
     ]
    }
   ],
   "source": [
    "(_, _), (x_test, y_test) = tf.keras.datasets.cifar100.load_data(label_mode='coarse')\n",
    "y_pred=model20.predict(x_test[0:100])\n",
    "print(np.argmax(y_pred[3]))\n",
    "print(y_test[3])\n",
    "#correct label"
   ]
  },
  {
   "attachments": {},
   "cell_type": "markdown",
   "metadata": {},
   "source": [
    "## Save model pipelines"
   ]
  },
  {
   "cell_type": "code",
   "execution_count": 16,
   "metadata": {},
   "outputs": [
    {
     "name": "stdout",
     "output_type": "stream",
     "text": [
      "WARNING:tensorflow:Compiled the loaded model, but the compiled metrics have yet to be built. `model.compile_metrics` will be empty until you train or evaluate the model.\n"
     ]
    },
    {
     "name": "stderr",
     "output_type": "stream",
     "text": [
      "WARNING:tensorflow:Compiled the loaded model, but the compiled metrics have yet to be built. `model.compile_metrics` will be empty until you train or evaluate the model.\n",
      "WARNING:absl:Found untraced functions such as _jit_compiled_convolution_op, _jit_compiled_convolution_op, _jit_compiled_convolution_op, _jit_compiled_convolution_op while saving (showing 4 of 4). These functions will not be directly callable after loading.\n"
     ]
    },
    {
     "name": "stdout",
     "output_type": "stream",
     "text": [
      "INFO:tensorflow:Assets written to: ./finalModels/model20/assets\n"
     ]
    },
    {
     "name": "stderr",
     "output_type": "stream",
     "text": [
      "INFO:tensorflow:Assets written to: ./finalModels/model20/assets\n"
     ]
    },
    {
     "name": "stdout",
     "output_type": "stream",
     "text": [
      "WARNING:tensorflow:Compiled the loaded model, but the compiled metrics have yet to be built. `model.compile_metrics` will be empty until you train or evaluate the model.\n"
     ]
    },
    {
     "name": "stderr",
     "output_type": "stream",
     "text": [
      "WARNING:tensorflow:Compiled the loaded model, but the compiled metrics have yet to be built. `model.compile_metrics` will be empty until you train or evaluate the model.\n",
      "WARNING:absl:Found untraced functions such as _jit_compiled_convolution_op, _jit_compiled_convolution_op, _jit_compiled_convolution_op, _jit_compiled_convolution_op while saving (showing 4 of 4). These functions will not be directly callable after loading.\n"
     ]
    },
    {
     "name": "stdout",
     "output_type": "stream",
     "text": [
      "INFO:tensorflow:Assets written to: ./finalModels/model100/assets\n"
     ]
    },
    {
     "name": "stderr",
     "output_type": "stream",
     "text": [
      "INFO:tensorflow:Assets written to: ./finalModels/model100/assets\n"
     ]
    }
   ],
   "source": [
    "model20.save('./finalModels/model20')\n",
    "model100.save('./finalModels/model100')"
   ]
  }
 ],
 "metadata": {
  "kernelspec": {
   "display_name": "env",
   "language": "python",
   "name": "python3"
  },
  "language_info": {
   "codemirror_mode": {
    "name": "ipython",
    "version": 3
   },
   "file_extension": ".py",
   "mimetype": "text/x-python",
   "name": "python",
   "nbconvert_exporter": "python",
   "pygments_lexer": "ipython3",
   "version": "3.8.16"
  },
  "orig_nbformat": 4,
  "vscode": {
   "interpreter": {
    "hash": "4d3de6af16686938ea3bb390ea9691c7b018ab7f379df176b2fbeef1c1ff1775"
   }
  }
 },
 "nbformat": 4,
 "nbformat_minor": 2
}
